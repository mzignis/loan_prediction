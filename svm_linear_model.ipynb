{
  "nbformat": 4,
  "nbformat_minor": 0,
  "metadata": {
    "colab": {
      "name": "svm_linear_model.ipynb",
      "provenance": [],
      "mount_file_id": "1psiDf7xc8ygP2ghk4KXEVXKs3eUMNXYL",
      "authorship_tag": "ABX9TyM22YUnOJJeZ/7Q2CtLfAw/",
      "include_colab_link": true
    },
    "kernelspec": {
      "name": "python3",
      "display_name": "Python 3"
    }
  },
  "cells": [
    {
      "cell_type": "markdown",
      "metadata": {
        "id": "view-in-github",
        "colab_type": "text"
      },
      "source": [
        "<a href=\"https://colab.research.google.com/github/mzignis/loan_prediction/blob/master/svm_linear_model.ipynb\" target=\"_parent\"><img src=\"https://colab.research.google.com/assets/colab-badge.svg\" alt=\"Open In Colab\"/></a>"
      ]
    },
    {
      "cell_type": "code",
      "metadata": {
        "id": "C6a1ULnrbqzp",
        "colab_type": "code",
        "colab": {
          "base_uri": "https://localhost:8080/",
          "height": 34
        },
        "outputId": "37134ac4-4f4b-40e6-c7a2-e45c3080853f"
      },
      "source": [
        "HOME = '/content/drive/My Drive/Colab Notebooks/projects/loan_prediction/loan_prediction'\n",
        "%cd $HOME"
      ],
      "execution_count": 1,
      "outputs": [
        {
          "output_type": "stream",
          "text": [
            "/content/drive/My Drive/Colab Notebooks/projects/loan_prediction/loan_prediction\n"
          ],
          "name": "stdout"
        }
      ]
    },
    {
      "cell_type": "code",
      "metadata": {
        "id": "TkBsZZEtb13l",
        "colab_type": "code",
        "colab": {}
      },
      "source": [
        "import matplotlib.pyplot as plt\n",
        "import numpy as np\n",
        "import pandas as pd\n",
        "\n",
        "from sklearn.svm import LinearSVC\n",
        "from sklearn.metrics import precision_score, recall_score, f1_score, accuracy_score\n",
        "from sklearn.metrics import mean_squared_error, confusion_matrix\n",
        "from sklearn.model_selection import GridSearchCV"
      ],
      "execution_count": 0,
      "outputs": []
    },
    {
      "cell_type": "markdown",
      "metadata": {
        "id": "r3Tk-74IdyBc",
        "colab_type": "text"
      },
      "source": [
        "### Load data"
      ]
    },
    {
      "cell_type": "code",
      "metadata": {
        "id": "5rCLD_d9cEhb",
        "colab_type": "code",
        "colab": {
          "base_uri": "https://localhost:8080/",
          "height": 34
        },
        "outputId": "8d74ba2f-014e-4e3a-9a90-a01d6fe7c399"
      },
      "source": [
        "train_data = pd.read_pickle('data/train.p')\n",
        "X_train_df, y_train_df = train_data['X_train'], train_data['y_train']\n",
        "X_train_df.shape, y_train_df.shape"
      ],
      "execution_count": 22,
      "outputs": [
        {
          "output_type": "execute_result",
          "data": {
            "text/plain": [
              "((614, 21), (614,))"
            ]
          },
          "metadata": {
            "tags": []
          },
          "execution_count": 22
        }
      ]
    },
    {
      "cell_type": "code",
      "metadata": {
        "id": "VMLKdIjQcRsi",
        "colab_type": "code",
        "colab": {
          "base_uri": "https://localhost:8080/",
          "height": 34
        },
        "outputId": "62cf925c-930d-4d69-a967-47aa7763d4cf"
      },
      "source": [
        "test_data = pd.read_pickle('data/test.p')\n",
        "X_test_df = test_data['X_test']\n",
        "X_test_df.shape"
      ],
      "execution_count": 23,
      "outputs": [
        {
          "output_type": "execute_result",
          "data": {
            "text/plain": [
              "(367, 21)"
            ]
          },
          "metadata": {
            "tags": []
          },
          "execution_count": 23
        }
      ]
    },
    {
      "cell_type": "markdown",
      "metadata": {
        "id": "tgzLoZjjd1wJ",
        "colab_type": "text"
      },
      "source": [
        "### Preapare data"
      ]
    },
    {
      "cell_type": "code",
      "metadata": {
        "id": "WL_GQRrdeAjY",
        "colab_type": "code",
        "colab": {}
      },
      "source": [
        "X_train, y_train = X_train_df.values, y_train_df.values"
      ],
      "execution_count": 0,
      "outputs": []
    },
    {
      "cell_type": "markdown",
      "metadata": {
        "id": "A4tua0SieMeI",
        "colab_type": "text"
      },
      "source": [
        "### Creating model"
      ]
    },
    {
      "cell_type": "code",
      "metadata": {
        "id": "o7kUPUh3c2BM",
        "colab_type": "code",
        "colab": {}
      },
      "source": [
        "model = LinearSVC()\n",
        "model.fit(X_train, y_train)\n",
        "y_train_pred = model.predict(X_train)"
      ],
      "execution_count": 0,
      "outputs": []
    },
    {
      "cell_type": "code",
      "metadata": {
        "id": "iWueKoekjKrZ",
        "colab_type": "code",
        "colab": {
          "base_uri": "https://localhost:8080/",
          "height": 213
        },
        "outputId": "9368358e-d2ab-489a-9ca4-5ef2e3ecefaa"
      },
      "source": [
        "def score_model(y_true, y_pred):\n",
        "    print(f'Mean Square Error: {mean_squared_error(y_true, y_pred):.3f}')\n",
        "    print(f'Accuracy:          {accuracy_score(y_true, y_pred):.3f}')\n",
        "    print(f'Precission:        {precision_score(y_true, y_pred):.3f}')\n",
        "    print(f'Recall:            {recall_score(y_true, y_pred):.3f}')\n",
        "    print(f'F1:                {f1_score(y_true, y_pred):.3f}')\n",
        "    print()\n",
        "\n",
        "    df = pd.DataFrame(\n",
        "        confusion_matrix(y_true, y_pred), \n",
        "        index=['Actual False', 'Actual True'], \n",
        "        columns=['Detected False', 'Detected True']\n",
        "    )\n",
        "\n",
        "    return df\n",
        "\n",
        "score_model(y_train, y_train_pred)"
      ],
      "execution_count": 13,
      "outputs": [
        {
          "output_type": "stream",
          "text": [
            "Mean Square Error: 0.187\n",
            "Accuracy:          0.813\n",
            "Precission:        0.793\n",
            "Recall:            0.983\n",
            "F1:                0.878\n",
            "\n"
          ],
          "name": "stdout"
        },
        {
          "output_type": "execute_result",
          "data": {
            "text/html": [
              "<div>\n",
              "<style scoped>\n",
              "    .dataframe tbody tr th:only-of-type {\n",
              "        vertical-align: middle;\n",
              "    }\n",
              "\n",
              "    .dataframe tbody tr th {\n",
              "        vertical-align: top;\n",
              "    }\n",
              "\n",
              "    .dataframe thead th {\n",
              "        text-align: right;\n",
              "    }\n",
              "</style>\n",
              "<table border=\"1\" class=\"dataframe\">\n",
              "  <thead>\n",
              "    <tr style=\"text-align: right;\">\n",
              "      <th></th>\n",
              "      <th>Detected False</th>\n",
              "      <th>Detected True</th>\n",
              "    </tr>\n",
              "  </thead>\n",
              "  <tbody>\n",
              "    <tr>\n",
              "      <th>Actual False</th>\n",
              "      <td>84</td>\n",
              "      <td>108</td>\n",
              "    </tr>\n",
              "    <tr>\n",
              "      <th>Actual True</th>\n",
              "      <td>7</td>\n",
              "      <td>415</td>\n",
              "    </tr>\n",
              "  </tbody>\n",
              "</table>\n",
              "</div>"
            ],
            "text/plain": [
              "              Detected False  Detected True\n",
              "Actual False              84            108\n",
              "Actual True                7            415"
            ]
          },
          "metadata": {
            "tags": []
          },
          "execution_count": 13
        }
      ]
    },
    {
      "cell_type": "markdown",
      "metadata": {
        "id": "5yYkOr9xrJ4V",
        "colab_type": "text"
      },
      "source": [
        "### Select best model"
      ]
    },
    {
      "cell_type": "code",
      "metadata": {
        "id": "ck7dtTsAtU1v",
        "colab_type": "code",
        "colab": {
          "base_uri": "https://localhost:8080/",
          "height": 85
        },
        "outputId": "4b3cb4ec-0037-4db8-ba16-05ae4bb45a86"
      },
      "source": [
        "param = {\n",
        "    'random_state': [42],\n",
        "    'penalty': ['l1', 'l2'],\n",
        "    'dual': [False],\n",
        "    'tol': np.linspace(1e-2, 0)[:-1], \n",
        "    'C': np.linspace(1, 10),\n",
        "    'max_iter': [1e6]\n",
        "}\n",
        "\n",
        "model = LinearSVC()\n",
        "grid_searcher = GridSearchCV(model, param, cv=20)\n",
        "grid_searcher.fit(X_train, y_train)\n",
        "grid_searcher.best_estimator_"
      ],
      "execution_count": 15,
      "outputs": [
        {
          "output_type": "execute_result",
          "data": {
            "text/plain": [
              "LinearSVC(C=1.183673469387755, class_weight=None, dual=False,\n",
              "          fit_intercept=True, intercept_scaling=1, loss='squared_hinge',\n",
              "          max_iter=1000000.0, multi_class='ovr', penalty='l2', random_state=42,\n",
              "          tol=0.00020408163265306194, verbose=0)"
            ]
          },
          "metadata": {
            "tags": []
          },
          "execution_count": 15
        }
      ]
    },
    {
      "cell_type": "code",
      "metadata": {
        "id": "tCDsfjZ9rN9l",
        "colab_type": "code",
        "colab": {
          "base_uri": "https://localhost:8080/",
          "height": 85
        },
        "outputId": "e78f8dd4-02b4-4f1e-e3f0-7b785781e38d"
      },
      "source": [
        "model = grid_searcher.best_estimator_\n",
        "model"
      ],
      "execution_count": 16,
      "outputs": [
        {
          "output_type": "execute_result",
          "data": {
            "text/plain": [
              "LinearSVC(C=1.183673469387755, class_weight=None, dual=False,\n",
              "          fit_intercept=True, intercept_scaling=1, loss='squared_hinge',\n",
              "          max_iter=1000000.0, multi_class='ovr', penalty='l2', random_state=42,\n",
              "          tol=0.00020408163265306194, verbose=0)"
            ]
          },
          "metadata": {
            "tags": []
          },
          "execution_count": 16
        }
      ]
    },
    {
      "cell_type": "code",
      "metadata": {
        "id": "XgTWxOvk1ra1",
        "colab_type": "code",
        "colab": {
          "base_uri": "https://localhost:8080/",
          "height": 213
        },
        "outputId": "f57c1335-1b24-4211-e5b0-a34c3bea39fd"
      },
      "source": [
        "y_pred = model.predict(X_train)\n",
        "score_model(y_train, y_train_pred)"
      ],
      "execution_count": 17,
      "outputs": [
        {
          "output_type": "stream",
          "text": [
            "Mean Square Error: 0.187\n",
            "Accuracy:          0.813\n",
            "Precission:        0.793\n",
            "Recall:            0.983\n",
            "F1:                0.878\n",
            "\n"
          ],
          "name": "stdout"
        },
        {
          "output_type": "execute_result",
          "data": {
            "text/html": [
              "<div>\n",
              "<style scoped>\n",
              "    .dataframe tbody tr th:only-of-type {\n",
              "        vertical-align: middle;\n",
              "    }\n",
              "\n",
              "    .dataframe tbody tr th {\n",
              "        vertical-align: top;\n",
              "    }\n",
              "\n",
              "    .dataframe thead th {\n",
              "        text-align: right;\n",
              "    }\n",
              "</style>\n",
              "<table border=\"1\" class=\"dataframe\">\n",
              "  <thead>\n",
              "    <tr style=\"text-align: right;\">\n",
              "      <th></th>\n",
              "      <th>Detected False</th>\n",
              "      <th>Detected True</th>\n",
              "    </tr>\n",
              "  </thead>\n",
              "  <tbody>\n",
              "    <tr>\n",
              "      <th>Actual False</th>\n",
              "      <td>84</td>\n",
              "      <td>108</td>\n",
              "    </tr>\n",
              "    <tr>\n",
              "      <th>Actual True</th>\n",
              "      <td>7</td>\n",
              "      <td>415</td>\n",
              "    </tr>\n",
              "  </tbody>\n",
              "</table>\n",
              "</div>"
            ],
            "text/plain": [
              "              Detected False  Detected True\n",
              "Actual False              84            108\n",
              "Actual True                7            415"
            ]
          },
          "metadata": {
            "tags": []
          },
          "execution_count": 17
        }
      ]
    },
    {
      "cell_type": "markdown",
      "metadata": {
        "id": "TW_zLCk_jHaF",
        "colab_type": "text"
      },
      "source": [
        "### Feature relevance"
      ]
    },
    {
      "cell_type": "code",
      "metadata": {
        "id": "yA8T-5LrdvPa",
        "colab_type": "code",
        "colab": {
          "base_uri": "https://localhost:8080/",
          "height": 700
        },
        "outputId": "21caced7-1327-4393-8519-42a03ace7e3b"
      },
      "source": [
        "features_df = pd.DataFrame(zip(X_train_df.columns, model.coef_[0]), columns=['Feature', 'Coef_'])\n",
        "features_df['Relevance'] = features_df['Coef_'] / np.abs(model.coef_).sum()\n",
        "features_df['Relevance (ABS)'] = features_df['Coef_'].abs() / np.abs(model.coef_).sum()\n",
        "features_df.sort_values(by='Relevance (ABS)', ascending=False)"
      ],
      "execution_count": 25,
      "outputs": [
        {
          "output_type": "execute_result",
          "data": {
            "text/html": [
              "<div>\n",
              "<style scoped>\n",
              "    .dataframe tbody tr th:only-of-type {\n",
              "        vertical-align: middle;\n",
              "    }\n",
              "\n",
              "    .dataframe tbody tr th {\n",
              "        vertical-align: top;\n",
              "    }\n",
              "\n",
              "    .dataframe thead th {\n",
              "        text-align: right;\n",
              "    }\n",
              "</style>\n",
              "<table border=\"1\" class=\"dataframe\">\n",
              "  <thead>\n",
              "    <tr style=\"text-align: right;\">\n",
              "      <th></th>\n",
              "      <th>Feature</th>\n",
              "      <th>Coef_</th>\n",
              "      <th>Relevance</th>\n",
              "      <th>Relevance (ABS)</th>\n",
              "    </tr>\n",
              "  </thead>\n",
              "  <tbody>\n",
              "    <tr>\n",
              "      <th>18</th>\n",
              "      <td>CoapplicantIncome</td>\n",
              "      <td>-0.764830</td>\n",
              "      <td>-0.201850</td>\n",
              "      <td>0.201850</td>\n",
              "    </tr>\n",
              "    <tr>\n",
              "      <th>13</th>\n",
              "      <td>Credit_History_1.0</td>\n",
              "      <td>0.706377</td>\n",
              "      <td>0.186424</td>\n",
              "      <td>0.186424</td>\n",
              "    </tr>\n",
              "    <tr>\n",
              "      <th>12</th>\n",
              "      <td>Credit_History_0.0</td>\n",
              "      <td>-0.705002</td>\n",
              "      <td>-0.186061</td>\n",
              "      <td>0.186061</td>\n",
              "    </tr>\n",
              "    <tr>\n",
              "      <th>19</th>\n",
              "      <td>LoanAmount</td>\n",
              "      <td>-0.373019</td>\n",
              "      <td>-0.098446</td>\n",
              "      <td>0.098446</td>\n",
              "    </tr>\n",
              "    <tr>\n",
              "      <th>17</th>\n",
              "      <td>ApplicantIncome</td>\n",
              "      <td>0.197193</td>\n",
              "      <td>0.052042</td>\n",
              "      <td>0.052042</td>\n",
              "    </tr>\n",
              "    <tr>\n",
              "      <th>20</th>\n",
              "      <td>Loan_Amount_Term</td>\n",
              "      <td>-0.173979</td>\n",
              "      <td>-0.045916</td>\n",
              "      <td>0.045916</td>\n",
              "    </tr>\n",
              "    <tr>\n",
              "      <th>15</th>\n",
              "      <td>Property_Area_Semiurban</td>\n",
              "      <td>0.150350</td>\n",
              "      <td>0.039680</td>\n",
              "      <td>0.039680</td>\n",
              "    </tr>\n",
              "    <tr>\n",
              "      <th>5</th>\n",
              "      <td>Dependents_1</td>\n",
              "      <td>-0.124353</td>\n",
              "      <td>-0.032819</td>\n",
              "      <td>0.032819</td>\n",
              "    </tr>\n",
              "    <tr>\n",
              "      <th>14</th>\n",
              "      <td>Property_Area_Rural</td>\n",
              "      <td>-0.112989</td>\n",
              "      <td>-0.029819</td>\n",
              "      <td>0.029819</td>\n",
              "    </tr>\n",
              "    <tr>\n",
              "      <th>3</th>\n",
              "      <td>Married_Yes</td>\n",
              "      <td>0.093988</td>\n",
              "      <td>0.024805</td>\n",
              "      <td>0.024805</td>\n",
              "    </tr>\n",
              "    <tr>\n",
              "      <th>2</th>\n",
              "      <td>Married_No</td>\n",
              "      <td>-0.092614</td>\n",
              "      <td>-0.024442</td>\n",
              "      <td>0.024442</td>\n",
              "    </tr>\n",
              "    <tr>\n",
              "      <th>6</th>\n",
              "      <td>Dependents_2</td>\n",
              "      <td>0.089259</td>\n",
              "      <td>0.023557</td>\n",
              "      <td>0.023557</td>\n",
              "    </tr>\n",
              "    <tr>\n",
              "      <th>8</th>\n",
              "      <td>Education_Graduate</td>\n",
              "      <td>0.062976</td>\n",
              "      <td>0.016620</td>\n",
              "      <td>0.016620</td>\n",
              "    </tr>\n",
              "    <tr>\n",
              "      <th>9</th>\n",
              "      <td>Education_Not Graduate</td>\n",
              "      <td>-0.061601</td>\n",
              "      <td>-0.016258</td>\n",
              "      <td>0.016258</td>\n",
              "    </tr>\n",
              "    <tr>\n",
              "      <th>16</th>\n",
              "      <td>Property_Area_Urban</td>\n",
              "      <td>-0.035987</td>\n",
              "      <td>-0.009497</td>\n",
              "      <td>0.009497</td>\n",
              "    </tr>\n",
              "    <tr>\n",
              "      <th>4</th>\n",
              "      <td>Dependents_0</td>\n",
              "      <td>0.019726</td>\n",
              "      <td>0.005206</td>\n",
              "      <td>0.005206</td>\n",
              "    </tr>\n",
              "    <tr>\n",
              "      <th>7</th>\n",
              "      <td>Dependents_3+</td>\n",
              "      <td>0.016742</td>\n",
              "      <td>0.004419</td>\n",
              "      <td>0.004419</td>\n",
              "    </tr>\n",
              "    <tr>\n",
              "      <th>0</th>\n",
              "      <td>Gender_Female</td>\n",
              "      <td>0.004054</td>\n",
              "      <td>0.001070</td>\n",
              "      <td>0.001070</td>\n",
              "    </tr>\n",
              "    <tr>\n",
              "      <th>1</th>\n",
              "      <td>Gender_Male</td>\n",
              "      <td>-0.002679</td>\n",
              "      <td>-0.000707</td>\n",
              "      <td>0.000707</td>\n",
              "    </tr>\n",
              "    <tr>\n",
              "      <th>11</th>\n",
              "      <td>Self_Employed_Yes</td>\n",
              "      <td>0.001013</td>\n",
              "      <td>0.000267</td>\n",
              "      <td>0.000267</td>\n",
              "    </tr>\n",
              "    <tr>\n",
              "      <th>10</th>\n",
              "      <td>Self_Employed_No</td>\n",
              "      <td>0.000362</td>\n",
              "      <td>0.000096</td>\n",
              "      <td>0.000096</td>\n",
              "    </tr>\n",
              "  </tbody>\n",
              "</table>\n",
              "</div>"
            ],
            "text/plain": [
              "                    Feature     Coef_  Relevance  Relevance (ABS)\n",
              "18        CoapplicantIncome -0.764830  -0.201850         0.201850\n",
              "13       Credit_History_1.0  0.706377   0.186424         0.186424\n",
              "12       Credit_History_0.0 -0.705002  -0.186061         0.186061\n",
              "19               LoanAmount -0.373019  -0.098446         0.098446\n",
              "17          ApplicantIncome  0.197193   0.052042         0.052042\n",
              "20         Loan_Amount_Term -0.173979  -0.045916         0.045916\n",
              "15  Property_Area_Semiurban  0.150350   0.039680         0.039680\n",
              "5              Dependents_1 -0.124353  -0.032819         0.032819\n",
              "14      Property_Area_Rural -0.112989  -0.029819         0.029819\n",
              "3               Married_Yes  0.093988   0.024805         0.024805\n",
              "2                Married_No -0.092614  -0.024442         0.024442\n",
              "6              Dependents_2  0.089259   0.023557         0.023557\n",
              "8        Education_Graduate  0.062976   0.016620         0.016620\n",
              "9    Education_Not Graduate -0.061601  -0.016258         0.016258\n",
              "16      Property_Area_Urban -0.035987  -0.009497         0.009497\n",
              "4              Dependents_0  0.019726   0.005206         0.005206\n",
              "7             Dependents_3+  0.016742   0.004419         0.004419\n",
              "0             Gender_Female  0.004054   0.001070         0.001070\n",
              "1               Gender_Male -0.002679  -0.000707         0.000707\n",
              "11        Self_Employed_Yes  0.001013   0.000267         0.000267\n",
              "10         Self_Employed_No  0.000362   0.000096         0.000096"
            ]
          },
          "metadata": {
            "tags": []
          },
          "execution_count": 25
        }
      ]
    },
    {
      "cell_type": "code",
      "metadata": {
        "id": "zMDjAtPnhEPV",
        "colab_type": "code",
        "colab": {
          "base_uri": "https://localhost:8080/",
          "height": 700
        },
        "outputId": "9bf37edb-6e5b-4f2e-c6f2-e67180aa3c8a"
      },
      "source": [
        "features_df.sort_values(by='Relevance', ascending=False)"
      ],
      "execution_count": 26,
      "outputs": [
        {
          "output_type": "execute_result",
          "data": {
            "text/html": [
              "<div>\n",
              "<style scoped>\n",
              "    .dataframe tbody tr th:only-of-type {\n",
              "        vertical-align: middle;\n",
              "    }\n",
              "\n",
              "    .dataframe tbody tr th {\n",
              "        vertical-align: top;\n",
              "    }\n",
              "\n",
              "    .dataframe thead th {\n",
              "        text-align: right;\n",
              "    }\n",
              "</style>\n",
              "<table border=\"1\" class=\"dataframe\">\n",
              "  <thead>\n",
              "    <tr style=\"text-align: right;\">\n",
              "      <th></th>\n",
              "      <th>Feature</th>\n",
              "      <th>Coef_</th>\n",
              "      <th>Relevance</th>\n",
              "      <th>Relevance (ABS)</th>\n",
              "    </tr>\n",
              "  </thead>\n",
              "  <tbody>\n",
              "    <tr>\n",
              "      <th>13</th>\n",
              "      <td>Credit_History_1.0</td>\n",
              "      <td>0.706377</td>\n",
              "      <td>0.186424</td>\n",
              "      <td>0.186424</td>\n",
              "    </tr>\n",
              "    <tr>\n",
              "      <th>17</th>\n",
              "      <td>ApplicantIncome</td>\n",
              "      <td>0.197193</td>\n",
              "      <td>0.052042</td>\n",
              "      <td>0.052042</td>\n",
              "    </tr>\n",
              "    <tr>\n",
              "      <th>15</th>\n",
              "      <td>Property_Area_Semiurban</td>\n",
              "      <td>0.150350</td>\n",
              "      <td>0.039680</td>\n",
              "      <td>0.039680</td>\n",
              "    </tr>\n",
              "    <tr>\n",
              "      <th>3</th>\n",
              "      <td>Married_Yes</td>\n",
              "      <td>0.093988</td>\n",
              "      <td>0.024805</td>\n",
              "      <td>0.024805</td>\n",
              "    </tr>\n",
              "    <tr>\n",
              "      <th>6</th>\n",
              "      <td>Dependents_2</td>\n",
              "      <td>0.089259</td>\n",
              "      <td>0.023557</td>\n",
              "      <td>0.023557</td>\n",
              "    </tr>\n",
              "    <tr>\n",
              "      <th>8</th>\n",
              "      <td>Education_Graduate</td>\n",
              "      <td>0.062976</td>\n",
              "      <td>0.016620</td>\n",
              "      <td>0.016620</td>\n",
              "    </tr>\n",
              "    <tr>\n",
              "      <th>4</th>\n",
              "      <td>Dependents_0</td>\n",
              "      <td>0.019726</td>\n",
              "      <td>0.005206</td>\n",
              "      <td>0.005206</td>\n",
              "    </tr>\n",
              "    <tr>\n",
              "      <th>7</th>\n",
              "      <td>Dependents_3+</td>\n",
              "      <td>0.016742</td>\n",
              "      <td>0.004419</td>\n",
              "      <td>0.004419</td>\n",
              "    </tr>\n",
              "    <tr>\n",
              "      <th>0</th>\n",
              "      <td>Gender_Female</td>\n",
              "      <td>0.004054</td>\n",
              "      <td>0.001070</td>\n",
              "      <td>0.001070</td>\n",
              "    </tr>\n",
              "    <tr>\n",
              "      <th>11</th>\n",
              "      <td>Self_Employed_Yes</td>\n",
              "      <td>0.001013</td>\n",
              "      <td>0.000267</td>\n",
              "      <td>0.000267</td>\n",
              "    </tr>\n",
              "    <tr>\n",
              "      <th>10</th>\n",
              "      <td>Self_Employed_No</td>\n",
              "      <td>0.000362</td>\n",
              "      <td>0.000096</td>\n",
              "      <td>0.000096</td>\n",
              "    </tr>\n",
              "    <tr>\n",
              "      <th>1</th>\n",
              "      <td>Gender_Male</td>\n",
              "      <td>-0.002679</td>\n",
              "      <td>-0.000707</td>\n",
              "      <td>0.000707</td>\n",
              "    </tr>\n",
              "    <tr>\n",
              "      <th>16</th>\n",
              "      <td>Property_Area_Urban</td>\n",
              "      <td>-0.035987</td>\n",
              "      <td>-0.009497</td>\n",
              "      <td>0.009497</td>\n",
              "    </tr>\n",
              "    <tr>\n",
              "      <th>9</th>\n",
              "      <td>Education_Not Graduate</td>\n",
              "      <td>-0.061601</td>\n",
              "      <td>-0.016258</td>\n",
              "      <td>0.016258</td>\n",
              "    </tr>\n",
              "    <tr>\n",
              "      <th>2</th>\n",
              "      <td>Married_No</td>\n",
              "      <td>-0.092614</td>\n",
              "      <td>-0.024442</td>\n",
              "      <td>0.024442</td>\n",
              "    </tr>\n",
              "    <tr>\n",
              "      <th>14</th>\n",
              "      <td>Property_Area_Rural</td>\n",
              "      <td>-0.112989</td>\n",
              "      <td>-0.029819</td>\n",
              "      <td>0.029819</td>\n",
              "    </tr>\n",
              "    <tr>\n",
              "      <th>5</th>\n",
              "      <td>Dependents_1</td>\n",
              "      <td>-0.124353</td>\n",
              "      <td>-0.032819</td>\n",
              "      <td>0.032819</td>\n",
              "    </tr>\n",
              "    <tr>\n",
              "      <th>20</th>\n",
              "      <td>Loan_Amount_Term</td>\n",
              "      <td>-0.173979</td>\n",
              "      <td>-0.045916</td>\n",
              "      <td>0.045916</td>\n",
              "    </tr>\n",
              "    <tr>\n",
              "      <th>19</th>\n",
              "      <td>LoanAmount</td>\n",
              "      <td>-0.373019</td>\n",
              "      <td>-0.098446</td>\n",
              "      <td>0.098446</td>\n",
              "    </tr>\n",
              "    <tr>\n",
              "      <th>12</th>\n",
              "      <td>Credit_History_0.0</td>\n",
              "      <td>-0.705002</td>\n",
              "      <td>-0.186061</td>\n",
              "      <td>0.186061</td>\n",
              "    </tr>\n",
              "    <tr>\n",
              "      <th>18</th>\n",
              "      <td>CoapplicantIncome</td>\n",
              "      <td>-0.764830</td>\n",
              "      <td>-0.201850</td>\n",
              "      <td>0.201850</td>\n",
              "    </tr>\n",
              "  </tbody>\n",
              "</table>\n",
              "</div>"
            ],
            "text/plain": [
              "                    Feature     Coef_  Relevance  Relevance (ABS)\n",
              "13       Credit_History_1.0  0.706377   0.186424         0.186424\n",
              "17          ApplicantIncome  0.197193   0.052042         0.052042\n",
              "15  Property_Area_Semiurban  0.150350   0.039680         0.039680\n",
              "3               Married_Yes  0.093988   0.024805         0.024805\n",
              "6              Dependents_2  0.089259   0.023557         0.023557\n",
              "8        Education_Graduate  0.062976   0.016620         0.016620\n",
              "4              Dependents_0  0.019726   0.005206         0.005206\n",
              "7             Dependents_3+  0.016742   0.004419         0.004419\n",
              "0             Gender_Female  0.004054   0.001070         0.001070\n",
              "11        Self_Employed_Yes  0.001013   0.000267         0.000267\n",
              "10         Self_Employed_No  0.000362   0.000096         0.000096\n",
              "1               Gender_Male -0.002679  -0.000707         0.000707\n",
              "16      Property_Area_Urban -0.035987  -0.009497         0.009497\n",
              "9    Education_Not Graduate -0.061601  -0.016258         0.016258\n",
              "2                Married_No -0.092614  -0.024442         0.024442\n",
              "14      Property_Area_Rural -0.112989  -0.029819         0.029819\n",
              "5              Dependents_1 -0.124353  -0.032819         0.032819\n",
              "20         Loan_Amount_Term -0.173979  -0.045916         0.045916\n",
              "19               LoanAmount -0.373019  -0.098446         0.098446\n",
              "12       Credit_History_0.0 -0.705002  -0.186061         0.186061\n",
              "18        CoapplicantIncome -0.764830  -0.201850         0.201850"
            ]
          },
          "metadata": {
            "tags": []
          },
          "execution_count": 26
        }
      ]
    },
    {
      "cell_type": "code",
      "metadata": {
        "id": "3_3eDZRcxZqw",
        "colab_type": "code",
        "colab": {}
      },
      "source": [
        ""
      ],
      "execution_count": 0,
      "outputs": []
    }
  ]
}