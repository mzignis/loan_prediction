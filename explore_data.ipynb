{
  "nbformat": 4,
  "nbformat_minor": 0,
  "metadata": {
    "colab": {
      "name": "explore_data.ipynb",
      "provenance": [],
      "mount_file_id": "1tv_C5hJbXFg77_SkFJs4AmtSQ0SwKNZl",
      "authorship_tag": "ABX9TyPbKyIFd9qncs5+/RkN2ov/",
      "include_colab_link": true
    },
    "kernelspec": {
      "name": "python3",
      "display_name": "Python 3"
    }
  },
  "cells": [
    {
      "cell_type": "markdown",
      "metadata": {
        "id": "view-in-github",
        "colab_type": "text"
      },
      "source": [
        "<a href=\"https://colab.research.google.com/github/mzignis/loan_prediction/blob/master/explore_data.ipynb\" target=\"_parent\"><img src=\"https://colab.research.google.com/assets/colab-badge.svg\" alt=\"Open In Colab\"/></a>"
      ]
    },
    {
      "cell_type": "code",
      "metadata": {
        "id": "KGPqrreaDO9R",
        "colab_type": "code",
        "colab": {
          "base_uri": "https://localhost:8080/",
          "height": 34
        },
        "outputId": "735d0b1f-6770-4392-e765-658f5c014612"
      },
      "source": [
        "HOME = '/content/drive/My Drive/Colab Notebooks/projects/loan_prediction/loan_prediction'\n",
        "%cd $HOME"
      ],
      "execution_count": 28,
      "outputs": [
        {
          "output_type": "stream",
          "text": [
            "/content/drive/My Drive/Colab Notebooks/projects/loan_prediction/loan_prediction\n"
          ],
          "name": "stdout"
        }
      ]
    },
    {
      "cell_type": "code",
      "metadata": {
        "id": "77q6YC1PC5KN",
        "colab_type": "code",
        "colab": {}
      },
      "source": [
        "import pickle\n",
        "\n",
        "import matplotlib.pyplot as plt\n",
        "import numpy as np\n",
        "import pandas as pd\n",
        "\n",
        "from sklearn.preprocessing import OneHotEncoder, LabelEncoder, MinMaxScaler"
      ],
      "execution_count": 0,
      "outputs": []
    },
    {
      "cell_type": "code",
      "metadata": {
        "id": "BEb8VpLQDDx_",
        "colab_type": "code",
        "colab": {
          "base_uri": "https://localhost:8080/",
          "height": 34
        },
        "outputId": "b0460c4f-6927-4dc8-f985-66cc9540b6dd"
      },
      "source": [
        "df = pd.read_csv('data/train.csv')\n",
        "df.shape"
      ],
      "execution_count": 30,
      "outputs": [
        {
          "output_type": "execute_result",
          "data": {
            "text/plain": [
              "(614, 13)"
            ]
          },
          "metadata": {
            "tags": []
          },
          "execution_count": 30
        }
      ]
    },
    {
      "cell_type": "code",
      "metadata": {
        "id": "MZqFZmKyDLVu",
        "colab_type": "code",
        "colab": {
          "base_uri": "https://localhost:8080/",
          "height": 85
        },
        "outputId": "d816f547-dd1e-497c-8db2-9857f28ebaeb"
      },
      "source": [
        "df.columns"
      ],
      "execution_count": 31,
      "outputs": [
        {
          "output_type": "execute_result",
          "data": {
            "text/plain": [
              "Index(['Loan_ID', 'Gender', 'Married', 'Dependents', 'Education',\n",
              "       'Self_Employed', 'ApplicantIncome', 'CoapplicantIncome', 'LoanAmount',\n",
              "       'Loan_Amount_Term', 'Credit_History', 'Property_Area', 'Loan_Status'],\n",
              "      dtype='object')"
            ]
          },
          "metadata": {
            "tags": []
          },
          "execution_count": 31
        }
      ]
    },
    {
      "cell_type": "code",
      "metadata": {
        "id": "9XQGWnhYDnL0",
        "colab_type": "code",
        "colab": {
          "base_uri": "https://localhost:8080/",
          "height": 241
        },
        "outputId": "4c75ebb7-5dc8-498e-eaf8-b76d39d59242"
      },
      "source": [
        "df.head()"
      ],
      "execution_count": 32,
      "outputs": [
        {
          "output_type": "execute_result",
          "data": {
            "text/html": [
              "<div>\n",
              "<style scoped>\n",
              "    .dataframe tbody tr th:only-of-type {\n",
              "        vertical-align: middle;\n",
              "    }\n",
              "\n",
              "    .dataframe tbody tr th {\n",
              "        vertical-align: top;\n",
              "    }\n",
              "\n",
              "    .dataframe thead th {\n",
              "        text-align: right;\n",
              "    }\n",
              "</style>\n",
              "<table border=\"1\" class=\"dataframe\">\n",
              "  <thead>\n",
              "    <tr style=\"text-align: right;\">\n",
              "      <th></th>\n",
              "      <th>Loan_ID</th>\n",
              "      <th>Gender</th>\n",
              "      <th>Married</th>\n",
              "      <th>Dependents</th>\n",
              "      <th>Education</th>\n",
              "      <th>Self_Employed</th>\n",
              "      <th>ApplicantIncome</th>\n",
              "      <th>CoapplicantIncome</th>\n",
              "      <th>LoanAmount</th>\n",
              "      <th>Loan_Amount_Term</th>\n",
              "      <th>Credit_History</th>\n",
              "      <th>Property_Area</th>\n",
              "      <th>Loan_Status</th>\n",
              "    </tr>\n",
              "  </thead>\n",
              "  <tbody>\n",
              "    <tr>\n",
              "      <th>0</th>\n",
              "      <td>LP001002</td>\n",
              "      <td>Male</td>\n",
              "      <td>No</td>\n",
              "      <td>0</td>\n",
              "      <td>Graduate</td>\n",
              "      <td>No</td>\n",
              "      <td>5849</td>\n",
              "      <td>0.0</td>\n",
              "      <td>NaN</td>\n",
              "      <td>360.0</td>\n",
              "      <td>1.0</td>\n",
              "      <td>Urban</td>\n",
              "      <td>Y</td>\n",
              "    </tr>\n",
              "    <tr>\n",
              "      <th>1</th>\n",
              "      <td>LP001003</td>\n",
              "      <td>Male</td>\n",
              "      <td>Yes</td>\n",
              "      <td>1</td>\n",
              "      <td>Graduate</td>\n",
              "      <td>No</td>\n",
              "      <td>4583</td>\n",
              "      <td>1508.0</td>\n",
              "      <td>128.0</td>\n",
              "      <td>360.0</td>\n",
              "      <td>1.0</td>\n",
              "      <td>Rural</td>\n",
              "      <td>N</td>\n",
              "    </tr>\n",
              "    <tr>\n",
              "      <th>2</th>\n",
              "      <td>LP001005</td>\n",
              "      <td>Male</td>\n",
              "      <td>Yes</td>\n",
              "      <td>0</td>\n",
              "      <td>Graduate</td>\n",
              "      <td>Yes</td>\n",
              "      <td>3000</td>\n",
              "      <td>0.0</td>\n",
              "      <td>66.0</td>\n",
              "      <td>360.0</td>\n",
              "      <td>1.0</td>\n",
              "      <td>Urban</td>\n",
              "      <td>Y</td>\n",
              "    </tr>\n",
              "    <tr>\n",
              "      <th>3</th>\n",
              "      <td>LP001006</td>\n",
              "      <td>Male</td>\n",
              "      <td>Yes</td>\n",
              "      <td>0</td>\n",
              "      <td>Not Graduate</td>\n",
              "      <td>No</td>\n",
              "      <td>2583</td>\n",
              "      <td>2358.0</td>\n",
              "      <td>120.0</td>\n",
              "      <td>360.0</td>\n",
              "      <td>1.0</td>\n",
              "      <td>Urban</td>\n",
              "      <td>Y</td>\n",
              "    </tr>\n",
              "    <tr>\n",
              "      <th>4</th>\n",
              "      <td>LP001008</td>\n",
              "      <td>Male</td>\n",
              "      <td>No</td>\n",
              "      <td>0</td>\n",
              "      <td>Graduate</td>\n",
              "      <td>No</td>\n",
              "      <td>6000</td>\n",
              "      <td>0.0</td>\n",
              "      <td>141.0</td>\n",
              "      <td>360.0</td>\n",
              "      <td>1.0</td>\n",
              "      <td>Urban</td>\n",
              "      <td>Y</td>\n",
              "    </tr>\n",
              "  </tbody>\n",
              "</table>\n",
              "</div>"
            ],
            "text/plain": [
              "    Loan_ID Gender Married  ... Credit_History Property_Area Loan_Status\n",
              "0  LP001002   Male      No  ...            1.0         Urban           Y\n",
              "1  LP001003   Male     Yes  ...            1.0         Rural           N\n",
              "2  LP001005   Male     Yes  ...            1.0         Urban           Y\n",
              "3  LP001006   Male     Yes  ...            1.0         Urban           Y\n",
              "4  LP001008   Male      No  ...            1.0         Urban           Y\n",
              "\n",
              "[5 rows x 13 columns]"
            ]
          },
          "metadata": {
            "tags": []
          },
          "execution_count": 32
        }
      ]
    },
    {
      "cell_type": "code",
      "metadata": {
        "id": "6RnGCsWAD0H6",
        "colab_type": "code",
        "colab": {
          "base_uri": "https://localhost:8080/",
          "height": 629
        },
        "outputId": "5369bc3e-0f0d-402a-f135-7c41a9f4ad1b"
      },
      "source": [
        "for column_name in df.columns[1:]:\n",
        "    print(f'{column_name}: {df[column_name].dtype}')\n",
        "    unique_values = df[column_name].unique()\n",
        "    unique_values = unique_values.astype(str)\n",
        "    if unique_values.shape[0] > 5:\n",
        "        unique_values = unique_values.tolist()[:5] + ['...']\n",
        "    print(f\"[{', '.join(unique_values)}]\")\n",
        "    print()"
      ],
      "execution_count": 33,
      "outputs": [
        {
          "output_type": "stream",
          "text": [
            "Gender: object\n",
            "[Male, Female, nan]\n",
            "\n",
            "Married: object\n",
            "[No, Yes, nan]\n",
            "\n",
            "Dependents: object\n",
            "[0, 1, 2, 3+, nan]\n",
            "\n",
            "Education: object\n",
            "[Graduate, Not Graduate]\n",
            "\n",
            "Self_Employed: object\n",
            "[No, Yes, nan]\n",
            "\n",
            "ApplicantIncome: int64\n",
            "[5849, 4583, 3000, 2583, 6000, ...]\n",
            "\n",
            "CoapplicantIncome: float64\n",
            "[0.0, 1508.0, 2358.0, 4196.0, 1516.0, ...]\n",
            "\n",
            "LoanAmount: float64\n",
            "[nan, 128.0, 66.0, 120.0, 141.0, ...]\n",
            "\n",
            "Loan_Amount_Term: float64\n",
            "[360.0, 120.0, 240.0, nan, 180.0, ...]\n",
            "\n",
            "Credit_History: float64\n",
            "[1.0, 0.0, nan]\n",
            "\n",
            "Property_Area: object\n",
            "[Urban, Rural, Semiurban]\n",
            "\n",
            "Loan_Status: object\n",
            "[Y, N]\n",
            "\n"
          ],
          "name": "stdout"
        }
      ]
    },
    {
      "cell_type": "code",
      "metadata": {
        "id": "00gAzUbMEUB3",
        "colab_type": "code",
        "colab": {}
      },
      "source": [
        "categorical_columns = ['Gender', 'Married', 'Dependents', 'Education', 'Self_Employed', \n",
        "                       'Credit_History', 'Property_Area', 'Loan_Status']\n",
        "numerical_columns = ['ApplicantIncome', 'CoapplicantIncome', 'LoanAmount', 'Loan_Amount_Term']"
      ],
      "execution_count": 0,
      "outputs": []
    },
    {
      "cell_type": "code",
      "metadata": {
        "id": "-y_aV7SpIgM6",
        "colab_type": "code",
        "colab": {}
      },
      "source": [
        "for column in categorical_columns:\n",
        "    most_common_value = df[column].value_counts().index[0]\n",
        "    df[column].fillna(most_common_value, inplace=True)"
      ],
      "execution_count": 0,
      "outputs": []
    },
    {
      "cell_type": "code",
      "metadata": {
        "id": "cp8RleWRJ1dO",
        "colab_type": "code",
        "colab": {
          "base_uri": "https://localhost:8080/",
          "height": 34
        },
        "outputId": "26b61e3d-e3ea-4da4-80b6-263bc4ef1b9c"
      },
      "source": [
        "applicant_income_mean = df['ApplicantIncome'].mean()\n",
        "coapplicant_income_mean = df['CoapplicantIncome'].mean()\n",
        "applicant_income_mean, coapplicant_income_mean"
      ],
      "execution_count": 36,
      "outputs": [
        {
          "output_type": "execute_result",
          "data": {
            "text/plain": [
              "(5403.459283387622, 1621.245798027101)"
            ]
          },
          "metadata": {
            "tags": []
          },
          "execution_count": 36
        }
      ]
    },
    {
      "cell_type": "code",
      "metadata": {
        "id": "a83p2bnUL1sm",
        "colab_type": "code",
        "colab": {}
      },
      "source": [
        "for column in numerical_columns:\n",
        "    df[column].fillna(df[column].mean(), inplace=True)"
      ],
      "execution_count": 0,
      "outputs": []
    },
    {
      "cell_type": "code",
      "metadata": {
        "id": "DBwssitGMVL5",
        "colab_type": "code",
        "colab": {
          "base_uri": "https://localhost:8080/",
          "height": 34
        },
        "outputId": "d3f7bfe6-3d7e-4318-81ff-c5911430ed65"
      },
      "source": [
        "df.isnull().values.any()"
      ],
      "execution_count": 38,
      "outputs": [
        {
          "output_type": "execute_result",
          "data": {
            "text/plain": [
              "False"
            ]
          },
          "metadata": {
            "tags": []
          },
          "execution_count": 38
        }
      ]
    },
    {
      "cell_type": "code",
      "metadata": {
        "id": "v05TnNiyMfLK",
        "colab_type": "code",
        "colab": {}
      },
      "source": [
        "categorical_columns = ['Gender', 'Married', 'Dependents', 'Education', 'Self_Employed', \n",
        "                       'Credit_History', 'Property_Area', 'Loan_Status']\n",
        "numerical_columns = ['ApplicantIncome', 'CoapplicantIncome', 'LoanAmount', 'Loan_Amount_Term']\n",
        "\n",
        "def fill_na(data_frame, categorical_columns=categorical_columns, numerical_columns=numerical_columns):\n",
        "    df = data_frame.copy()\n",
        "    for column in df.columns:\n",
        "        if column in categorical_columns:\n",
        "            most_common_value = df[column].value_counts().index[0]\n",
        "            df[column].fillna(most_common_value, inplace=True)\n",
        "        elif column in numerical_columns:\n",
        "            df[column].fillna(df[column].mean(), inplace=True)\n",
        "        else:\n",
        "            pass\n",
        "\n",
        "    return df\n",
        "\n",
        "df = pd.read_csv('data/train.csv')\n",
        "df = fill_na(df)"
      ],
      "execution_count": 0,
      "outputs": []
    },
    {
      "cell_type": "code",
      "metadata": {
        "id": "7puLVpR9MuHr",
        "colab_type": "code",
        "colab": {
          "base_uri": "https://localhost:8080/",
          "height": 275
        },
        "outputId": "3cb4528d-d926-45c9-e53b-3524ac1f83c7"
      },
      "source": [
        "def encode_categorical_values(data_frame, categorical_columns=categorical_columns, y_column='Loan_Status'):\n",
        "    df = pd.DataFrame()\n",
        "    for column in categorical_columns:\n",
        "        if column == y_column:\n",
        "            encoder = LabelEncoder()\n",
        "            encoded_column = encoder.fit_transform(data_frame[column].values.reshape(-1, 1))\n",
        "            df[column] = encoded_column  \n",
        "        else:\n",
        "            encoder = OneHotEncoder()\n",
        "            encoded_columns = encoder.fit_transform(data_frame[column].values.reshape(-1, 1))\n",
        "            for ii in range(encoded_columns.toarray().shape[1]):\n",
        "                df[f'{column}_{encoder.categories_[0][ii]}'] = encoded_columns.toarray()[:, ii]\n",
        "\n",
        "    return df\n",
        "\n",
        "\n",
        "df = pd.read_csv('data/train.csv')\n",
        "df = fill_na(df)\n",
        "df_categorical = encode_categorical_values(df)\n",
        "df_categorical.head()"
      ],
      "execution_count": 40,
      "outputs": [
        {
          "output_type": "stream",
          "text": [
            "/usr/local/lib/python3.6/dist-packages/sklearn/preprocessing/_label.py:251: DataConversionWarning: A column-vector y was passed when a 1d array was expected. Please change the shape of y to (n_samples, ), for example using ravel().\n",
            "  y = column_or_1d(y, warn=True)\n"
          ],
          "name": "stderr"
        },
        {
          "output_type": "execute_result",
          "data": {
            "text/html": [
              "<div>\n",
              "<style scoped>\n",
              "    .dataframe tbody tr th:only-of-type {\n",
              "        vertical-align: middle;\n",
              "    }\n",
              "\n",
              "    .dataframe tbody tr th {\n",
              "        vertical-align: top;\n",
              "    }\n",
              "\n",
              "    .dataframe thead th {\n",
              "        text-align: right;\n",
              "    }\n",
              "</style>\n",
              "<table border=\"1\" class=\"dataframe\">\n",
              "  <thead>\n",
              "    <tr style=\"text-align: right;\">\n",
              "      <th></th>\n",
              "      <th>Gender_Female</th>\n",
              "      <th>Gender_Male</th>\n",
              "      <th>Married_No</th>\n",
              "      <th>Married_Yes</th>\n",
              "      <th>Dependents_0</th>\n",
              "      <th>Dependents_1</th>\n",
              "      <th>Dependents_2</th>\n",
              "      <th>Dependents_3+</th>\n",
              "      <th>Education_Graduate</th>\n",
              "      <th>Education_Not Graduate</th>\n",
              "      <th>Self_Employed_No</th>\n",
              "      <th>Self_Employed_Yes</th>\n",
              "      <th>Credit_History_0.0</th>\n",
              "      <th>Credit_History_1.0</th>\n",
              "      <th>Property_Area_Rural</th>\n",
              "      <th>Property_Area_Semiurban</th>\n",
              "      <th>Property_Area_Urban</th>\n",
              "      <th>Loan_Status</th>\n",
              "    </tr>\n",
              "  </thead>\n",
              "  <tbody>\n",
              "    <tr>\n",
              "      <th>0</th>\n",
              "      <td>0.0</td>\n",
              "      <td>1.0</td>\n",
              "      <td>1.0</td>\n",
              "      <td>0.0</td>\n",
              "      <td>1.0</td>\n",
              "      <td>0.0</td>\n",
              "      <td>0.0</td>\n",
              "      <td>0.0</td>\n",
              "      <td>1.0</td>\n",
              "      <td>0.0</td>\n",
              "      <td>1.0</td>\n",
              "      <td>0.0</td>\n",
              "      <td>0.0</td>\n",
              "      <td>1.0</td>\n",
              "      <td>0.0</td>\n",
              "      <td>0.0</td>\n",
              "      <td>1.0</td>\n",
              "      <td>1</td>\n",
              "    </tr>\n",
              "    <tr>\n",
              "      <th>1</th>\n",
              "      <td>0.0</td>\n",
              "      <td>1.0</td>\n",
              "      <td>0.0</td>\n",
              "      <td>1.0</td>\n",
              "      <td>0.0</td>\n",
              "      <td>1.0</td>\n",
              "      <td>0.0</td>\n",
              "      <td>0.0</td>\n",
              "      <td>1.0</td>\n",
              "      <td>0.0</td>\n",
              "      <td>1.0</td>\n",
              "      <td>0.0</td>\n",
              "      <td>0.0</td>\n",
              "      <td>1.0</td>\n",
              "      <td>1.0</td>\n",
              "      <td>0.0</td>\n",
              "      <td>0.0</td>\n",
              "      <td>0</td>\n",
              "    </tr>\n",
              "    <tr>\n",
              "      <th>2</th>\n",
              "      <td>0.0</td>\n",
              "      <td>1.0</td>\n",
              "      <td>0.0</td>\n",
              "      <td>1.0</td>\n",
              "      <td>1.0</td>\n",
              "      <td>0.0</td>\n",
              "      <td>0.0</td>\n",
              "      <td>0.0</td>\n",
              "      <td>1.0</td>\n",
              "      <td>0.0</td>\n",
              "      <td>0.0</td>\n",
              "      <td>1.0</td>\n",
              "      <td>0.0</td>\n",
              "      <td>1.0</td>\n",
              "      <td>0.0</td>\n",
              "      <td>0.0</td>\n",
              "      <td>1.0</td>\n",
              "      <td>1</td>\n",
              "    </tr>\n",
              "    <tr>\n",
              "      <th>3</th>\n",
              "      <td>0.0</td>\n",
              "      <td>1.0</td>\n",
              "      <td>0.0</td>\n",
              "      <td>1.0</td>\n",
              "      <td>1.0</td>\n",
              "      <td>0.0</td>\n",
              "      <td>0.0</td>\n",
              "      <td>0.0</td>\n",
              "      <td>0.0</td>\n",
              "      <td>1.0</td>\n",
              "      <td>1.0</td>\n",
              "      <td>0.0</td>\n",
              "      <td>0.0</td>\n",
              "      <td>1.0</td>\n",
              "      <td>0.0</td>\n",
              "      <td>0.0</td>\n",
              "      <td>1.0</td>\n",
              "      <td>1</td>\n",
              "    </tr>\n",
              "    <tr>\n",
              "      <th>4</th>\n",
              "      <td>0.0</td>\n",
              "      <td>1.0</td>\n",
              "      <td>1.0</td>\n",
              "      <td>0.0</td>\n",
              "      <td>1.0</td>\n",
              "      <td>0.0</td>\n",
              "      <td>0.0</td>\n",
              "      <td>0.0</td>\n",
              "      <td>1.0</td>\n",
              "      <td>0.0</td>\n",
              "      <td>1.0</td>\n",
              "      <td>0.0</td>\n",
              "      <td>0.0</td>\n",
              "      <td>1.0</td>\n",
              "      <td>0.0</td>\n",
              "      <td>0.0</td>\n",
              "      <td>1.0</td>\n",
              "      <td>1</td>\n",
              "    </tr>\n",
              "  </tbody>\n",
              "</table>\n",
              "</div>"
            ],
            "text/plain": [
              "   Gender_Female  Gender_Male  ...  Property_Area_Urban  Loan_Status\n",
              "0            0.0          1.0  ...                  1.0            1\n",
              "1            0.0          1.0  ...                  0.0            0\n",
              "2            0.0          1.0  ...                  1.0            1\n",
              "3            0.0          1.0  ...                  1.0            1\n",
              "4            0.0          1.0  ...                  1.0            1\n",
              "\n",
              "[5 rows x 18 columns]"
            ]
          },
          "metadata": {
            "tags": []
          },
          "execution_count": 40
        }
      ]
    },
    {
      "cell_type": "code",
      "metadata": {
        "id": "zBiiMOJ7N_PX",
        "colab_type": "code",
        "colab": {
          "base_uri": "https://localhost:8080/",
          "height": 204
        },
        "outputId": "93720197-708a-4425-a55f-9c56d6ba9a39"
      },
      "source": [
        "def scale_numeric_values(data_frame, numerical_columns=numerical_columns):\n",
        "    df = pd.DataFrame()\n",
        "    for column in numerical_columns:\n",
        "        scaller = MinMaxScaler()\n",
        "        scalled_column = scaller.fit_transform(data_frame[column].values.reshape(-1, 1))\n",
        "        df[column] = scalled_column.ravel()\n",
        "\n",
        "    return df\n",
        "\n",
        "\n",
        "df = pd.read_csv('data/train.csv')\n",
        "df = fill_na(df)\n",
        "df_numerical = scale_numeric_values(df)\n",
        "df_numerical.head()"
      ],
      "execution_count": 41,
      "outputs": [
        {
          "output_type": "execute_result",
          "data": {
            "text/html": [
              "<div>\n",
              "<style scoped>\n",
              "    .dataframe tbody tr th:only-of-type {\n",
              "        vertical-align: middle;\n",
              "    }\n",
              "\n",
              "    .dataframe tbody tr th {\n",
              "        vertical-align: top;\n",
              "    }\n",
              "\n",
              "    .dataframe thead th {\n",
              "        text-align: right;\n",
              "    }\n",
              "</style>\n",
              "<table border=\"1\" class=\"dataframe\">\n",
              "  <thead>\n",
              "    <tr style=\"text-align: right;\">\n",
              "      <th></th>\n",
              "      <th>ApplicantIncome</th>\n",
              "      <th>CoapplicantIncome</th>\n",
              "      <th>LoanAmount</th>\n",
              "      <th>Loan_Amount_Term</th>\n",
              "    </tr>\n",
              "  </thead>\n",
              "  <tbody>\n",
              "    <tr>\n",
              "      <th>0</th>\n",
              "      <td>0.070489</td>\n",
              "      <td>0.000000</td>\n",
              "      <td>0.198860</td>\n",
              "      <td>0.74359</td>\n",
              "    </tr>\n",
              "    <tr>\n",
              "      <th>1</th>\n",
              "      <td>0.054830</td>\n",
              "      <td>0.036192</td>\n",
              "      <td>0.172214</td>\n",
              "      <td>0.74359</td>\n",
              "    </tr>\n",
              "    <tr>\n",
              "      <th>2</th>\n",
              "      <td>0.035250</td>\n",
              "      <td>0.000000</td>\n",
              "      <td>0.082489</td>\n",
              "      <td>0.74359</td>\n",
              "    </tr>\n",
              "    <tr>\n",
              "      <th>3</th>\n",
              "      <td>0.030093</td>\n",
              "      <td>0.056592</td>\n",
              "      <td>0.160637</td>\n",
              "      <td>0.74359</td>\n",
              "    </tr>\n",
              "    <tr>\n",
              "      <th>4</th>\n",
              "      <td>0.072356</td>\n",
              "      <td>0.000000</td>\n",
              "      <td>0.191027</td>\n",
              "      <td>0.74359</td>\n",
              "    </tr>\n",
              "  </tbody>\n",
              "</table>\n",
              "</div>"
            ],
            "text/plain": [
              "   ApplicantIncome  CoapplicantIncome  LoanAmount  Loan_Amount_Term\n",
              "0         0.070489           0.000000    0.198860           0.74359\n",
              "1         0.054830           0.036192    0.172214           0.74359\n",
              "2         0.035250           0.000000    0.082489           0.74359\n",
              "3         0.030093           0.056592    0.160637           0.74359\n",
              "4         0.072356           0.000000    0.191027           0.74359"
            ]
          },
          "metadata": {
            "tags": []
          },
          "execution_count": 41
        }
      ]
    },
    {
      "cell_type": "code",
      "metadata": {
        "id": "WsFkQ2MJtVLa",
        "colab_type": "code",
        "colab": {}
      },
      "source": [
        "def preapare_data(csv_path, categorical_columns=categorical_columns, numerical_columns=numerical_columns, \n",
        "                  y_column='Loan_Status'):\n",
        "    \n",
        "    df = pd.read_csv(csv_path)\n",
        "    df = fill_na(df, categorical_columns, numerical_columns)\n",
        "    df_categorical = encode_categorical_values(df, categorical_columns, y_column)\n",
        "    df_numerical = scale_numeric_values(df, numerical_columns)\n",
        "    df = pd.concat([df_categorical, df_numerical], axis=1)\n",
        "\n",
        "    if y_column in df.columns:\n",
        "        return df.drop(columns=[y_column]), df[y_column]\n",
        "    else:\n",
        "        return df\n"
      ],
      "execution_count": 0,
      "outputs": []
    },
    {
      "cell_type": "code",
      "metadata": {
        "id": "wElGbyXxWn8A",
        "colab_type": "code",
        "colab": {}
      },
      "source": [
        "categorical_columns = ['Gender', 'Married', 'Dependents', 'Education', 'Self_Employed', \n",
        "                       'Credit_History', 'Property_Area', 'Loan_Status']\n",
        "numerical_columns = ['ApplicantIncome', 'CoapplicantIncome', 'LoanAmount', 'Loan_Amount_Term']"
      ],
      "execution_count": 0,
      "outputs": []
    },
    {
      "cell_type": "code",
      "metadata": {
        "id": "uguoFvjwWpNy",
        "colab_type": "code",
        "colab": {
          "base_uri": "https://localhost:8080/",
          "height": 88
        },
        "outputId": "c8faf645-ff28-44cc-caca-c04d62900d0f"
      },
      "source": [
        "X_train, y_train = preapare_data('data/train.csv')\n",
        "X_train.shape, y_train.shape"
      ],
      "execution_count": 44,
      "outputs": [
        {
          "output_type": "stream",
          "text": [
            "/usr/local/lib/python3.6/dist-packages/sklearn/preprocessing/_label.py:251: DataConversionWarning: A column-vector y was passed when a 1d array was expected. Please change the shape of y to (n_samples, ), for example using ravel().\n",
            "  y = column_or_1d(y, warn=True)\n"
          ],
          "name": "stderr"
        },
        {
          "output_type": "execute_result",
          "data": {
            "text/plain": [
              "((614, 21), (614,))"
            ]
          },
          "metadata": {
            "tags": []
          },
          "execution_count": 44
        }
      ]
    },
    {
      "cell_type": "code",
      "metadata": {
        "id": "XKE-xpC9XbTI",
        "colab_type": "code",
        "colab": {}
      },
      "source": [
        "train_data = {\n",
        "    'X_train': X_train,\n",
        "    'y_train': y_train,\n",
        "}\n",
        "\n",
        "with open('data/train.p', 'wb') as pf:\n",
        "    pickle.dump(train_data, pf)"
      ],
      "execution_count": 0,
      "outputs": []
    },
    {
      "cell_type": "code",
      "metadata": {
        "id": "kHkyQRU_w7ZG",
        "colab_type": "code",
        "colab": {
          "base_uri": "https://localhost:8080/",
          "height": 34
        },
        "outputId": "4e410a69-665d-4352-ad37-f3cd8936fd96"
      },
      "source": [
        "categorical_columns = ['Gender', 'Married', 'Dependents', 'Education', 'Self_Employed', \n",
        "                       'Credit_History', 'Property_Area']\n",
        "X_test = preapare_data('data/test.csv', categorical_columns)\n",
        "X_test.shape"
      ],
      "execution_count": 46,
      "outputs": [
        {
          "output_type": "execute_result",
          "data": {
            "text/plain": [
              "(367, 21)"
            ]
          },
          "metadata": {
            "tags": []
          },
          "execution_count": 46
        }
      ]
    },
    {
      "cell_type": "code",
      "metadata": {
        "id": "YzcJSPUsCPYr",
        "colab_type": "code",
        "colab": {}
      },
      "source": [
        "test_data = {\n",
        "    'X_test': X_test,\n",
        "}\n",
        "\n",
        "with open('data/test.p', 'wb') as pf:\n",
        "    pickle.dump(test_data, pf)"
      ],
      "execution_count": 0,
      "outputs": []
    },
    {
      "cell_type": "code",
      "metadata": {
        "id": "iQfJhz_uYCmh",
        "colab_type": "code",
        "colab": {}
      },
      "source": [
        ""
      ],
      "execution_count": 0,
      "outputs": []
    }
  ]
}